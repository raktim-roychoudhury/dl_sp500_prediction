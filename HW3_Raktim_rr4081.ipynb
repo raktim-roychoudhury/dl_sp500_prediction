{
  "cells": [
    {
      "cell_type": "markdown",
      "metadata": {
        "id": "view-in-github",
        "colab_type": "text"
      },
      "source": [
        "<a href=\"https://colab.research.google.com/github/raktim-roychoudhury/dl_sp500_prediction/blob/main/HW3_Raktim_rr4081.ipynb\" target=\"_parent\"><img src=\"https://colab.research.google.com/assets/colab-badge.svg\" alt=\"Open In Colab\"/></a>"
      ]
    },
    {
      "cell_type": "markdown",
      "metadata": {
        "id": "24ZpiDdLSI2v"
      },
      "source": [
        "# Assignment 3  \n",
        "\\# Raktim Roychoudhury\n",
        "\\# rr4081"
      ]
    },
    {
      "cell_type": "markdown",
      "metadata": {
        "id": "5ME79KRZSLdL"
      },
      "source": [
        "\n",
        "* The main goal of assignment 3 is to develop a **deep learning classification** model to predict the direction of the S&P500 (daily basis) for the dates **2022-01-01—2022-11-30** (test set). The period of the train dataset is your own choice (normally it should be more than 15 years). You may consider dividing the dataset and shifting the training window after each prediction on a quarterly, monthly or weekly basis, but any type of processing will be accepted as long as it makes sense.\n",
        "* Make sure that you switch your GPU on, you have access to it on Colab. The training stage may take long, you might want to use a smaller amount of data, or fewer epochs at first to speed up your development process.  \n",
        "*   Note that we *won't* be attempting to measure the quality of every feature (i.e., how much it improves the model), so please don't be afraid if your model doesn't output good results.  \n",
        "* **Hand in**: Please submit the .ipynb notebook and name it ‘HWX_FirstName_NetID’. The notebook should include all classes and functions you implemented with proper comments, and explanation of your operations and results. "
      ]
    },
    {
      "cell_type": "code",
      "source": [
        "pip install yfinance --upgrade --no-cache-dir #installing yahoofinance api"
      ],
      "metadata": {
        "id": "b1YLxVFPEEq6",
        "colab": {
          "base_uri": "https://localhost:8080/"
        },
        "outputId": "8a0dd3b7-3f42-4f5c-ed42-cd7082d53f68"
      },
      "execution_count": 186,
      "outputs": [
        {
          "output_type": "stream",
          "name": "stdout",
          "text": [
            "Looking in indexes: https://pypi.org/simple, https://us-python.pkg.dev/colab-wheels/public/simple/\n",
            "Requirement already satisfied: yfinance in /usr/local/lib/python3.8/dist-packages (0.1.87)\n",
            "Requirement already satisfied: multitasking>=0.0.7 in /usr/local/lib/python3.8/dist-packages (from yfinance) (0.0.11)\n",
            "Requirement already satisfied: lxml>=4.5.1 in /usr/local/lib/python3.8/dist-packages (from yfinance) (4.9.1)\n",
            "Requirement already satisfied: appdirs>=1.4.4 in /usr/local/lib/python3.8/dist-packages (from yfinance) (1.4.4)\n",
            "Requirement already satisfied: requests>=2.26 in /usr/local/lib/python3.8/dist-packages (from yfinance) (2.28.1)\n",
            "Requirement already satisfied: numpy>=1.15 in /usr/local/lib/python3.8/dist-packages (from yfinance) (1.21.6)\n",
            "Requirement already satisfied: pandas>=0.24.0 in /usr/local/lib/python3.8/dist-packages (from yfinance) (1.3.5)\n",
            "Requirement already satisfied: python-dateutil>=2.7.3 in /usr/local/lib/python3.8/dist-packages (from pandas>=0.24.0->yfinance) (2.8.2)\n",
            "Requirement already satisfied: pytz>=2017.3 in /usr/local/lib/python3.8/dist-packages (from pandas>=0.24.0->yfinance) (2022.6)\n",
            "Requirement already satisfied: six>=1.5 in /usr/local/lib/python3.8/dist-packages (from python-dateutil>=2.7.3->pandas>=0.24.0->yfinance) (1.15.0)\n",
            "Requirement already satisfied: idna<4,>=2.5 in /usr/local/lib/python3.8/dist-packages (from requests>=2.26->yfinance) (2.10)\n",
            "Requirement already satisfied: urllib3<1.27,>=1.21.1 in /usr/local/lib/python3.8/dist-packages (from requests>=2.26->yfinance) (1.24.3)\n",
            "Requirement already satisfied: certifi>=2017.4.17 in /usr/local/lib/python3.8/dist-packages (from requests>=2.26->yfinance) (2022.9.24)\n",
            "Requirement already satisfied: charset-normalizer<3,>=2 in /usr/local/lib/python3.8/dist-packages (from requests>=2.26->yfinance) (2.1.1)\n"
          ]
        }
      ]
    },
    {
      "cell_type": "code",
      "execution_count": 187,
      "metadata": {
        "id": "KK3ah2-KR7Mc"
      },
      "outputs": [],
      "source": [
        "import pandas as pd\n",
        "import numpy as np\n",
        "import keras\n",
        "import yfinance as yf\n",
        "from datetime import datetime\n",
        "import matplotlib.pyplot as plt\n",
        "import pandas_datareader as pdr\n",
        "import seaborn as sns"
      ]
    },
    {
      "cell_type": "markdown",
      "metadata": {
        "id": "y8DfulTBSAXT"
      },
      "source": [
        "#1. Import the Dataset (2pts) \n",
        "You may use [yfinance](https://pypi.org/project/yfinance/) API to prepare the data. A typical historical dataset contains the date, open price, close price, highest price, lowest price, and volume of the asset for each trading day. Download the historical dataset for S\\&P500 and conduct necessary data pre-processing.\n"
      ]
    },
    {
      "cell_type": "code",
      "execution_count": 188,
      "metadata": {
        "id": "F8Rf5rSWR-O4"
      },
      "outputs": [],
      "source": [
        "# download the data\n",
        "ticker = yf.Ticker('^GSPC') # ticker symbol for S&P500\n",
        "sp500_rawdata = ticker.history(period = '15y')\n",
        "sp500_rawdata.to_csv('sp500_raw.csv')\n",
        "## Your code here!"
      ]
    },
    {
      "cell_type": "code",
      "source": [
        "#loading data into dataframe and formatting\n",
        "sp500_rawdata = pd.read_csv('sp500_raw.csv', parse_dates = ['Date'])\n",
        "sp500_rawdata.index = sp500_rawdata['Date'].apply(lambda x : x.strftime('%m-%d-%Y'))\n",
        "sp500_rawdata.drop(['Date','Dividends','Stock Splits'], axis = 1, inplace = True)\n",
        "sp500_rawdata.head()"
      ],
      "metadata": {
        "colab": {
          "base_uri": "https://localhost:8080/",
          "height": 235
        },
        "id": "9B75JkrRNpDj",
        "outputId": "5441d861-9973-4dd4-9664-82938d1f1519"
      },
      "execution_count": 189,
      "outputs": [
        {
          "output_type": "execute_result",
          "data": {
            "text/plain": [
              "                   Open         High          Low        Close      Volume\n",
              "Date                                                                      \n",
              "12-10-2007  1505.109985  1518.270020  1504.959961  1515.959961  2911760000\n",
              "12-11-2007  1516.680054  1523.569946  1475.989990  1477.650024  4080180000\n",
              "12-12-2007  1487.579956  1511.959961  1468.229980  1486.589966  4482120000\n",
              "12-13-2007  1483.270020  1489.400024  1469.209961  1488.410034  3635170000\n",
              "12-14-2007  1486.189941  1486.670044  1467.780029  1467.949951  3401050000"
            ],
            "text/html": [
              "\n",
              "  <div id=\"df-76df76e0-d913-4f78-a17f-7f5555447ad9\">\n",
              "    <div class=\"colab-df-container\">\n",
              "      <div>\n",
              "<style scoped>\n",
              "    .dataframe tbody tr th:only-of-type {\n",
              "        vertical-align: middle;\n",
              "    }\n",
              "\n",
              "    .dataframe tbody tr th {\n",
              "        vertical-align: top;\n",
              "    }\n",
              "\n",
              "    .dataframe thead th {\n",
              "        text-align: right;\n",
              "    }\n",
              "</style>\n",
              "<table border=\"1\" class=\"dataframe\">\n",
              "  <thead>\n",
              "    <tr style=\"text-align: right;\">\n",
              "      <th></th>\n",
              "      <th>Open</th>\n",
              "      <th>High</th>\n",
              "      <th>Low</th>\n",
              "      <th>Close</th>\n",
              "      <th>Volume</th>\n",
              "    </tr>\n",
              "    <tr>\n",
              "      <th>Date</th>\n",
              "      <th></th>\n",
              "      <th></th>\n",
              "      <th></th>\n",
              "      <th></th>\n",
              "      <th></th>\n",
              "    </tr>\n",
              "  </thead>\n",
              "  <tbody>\n",
              "    <tr>\n",
              "      <th>12-10-2007</th>\n",
              "      <td>1505.109985</td>\n",
              "      <td>1518.270020</td>\n",
              "      <td>1504.959961</td>\n",
              "      <td>1515.959961</td>\n",
              "      <td>2911760000</td>\n",
              "    </tr>\n",
              "    <tr>\n",
              "      <th>12-11-2007</th>\n",
              "      <td>1516.680054</td>\n",
              "      <td>1523.569946</td>\n",
              "      <td>1475.989990</td>\n",
              "      <td>1477.650024</td>\n",
              "      <td>4080180000</td>\n",
              "    </tr>\n",
              "    <tr>\n",
              "      <th>12-12-2007</th>\n",
              "      <td>1487.579956</td>\n",
              "      <td>1511.959961</td>\n",
              "      <td>1468.229980</td>\n",
              "      <td>1486.589966</td>\n",
              "      <td>4482120000</td>\n",
              "    </tr>\n",
              "    <tr>\n",
              "      <th>12-13-2007</th>\n",
              "      <td>1483.270020</td>\n",
              "      <td>1489.400024</td>\n",
              "      <td>1469.209961</td>\n",
              "      <td>1488.410034</td>\n",
              "      <td>3635170000</td>\n",
              "    </tr>\n",
              "    <tr>\n",
              "      <th>12-14-2007</th>\n",
              "      <td>1486.189941</td>\n",
              "      <td>1486.670044</td>\n",
              "      <td>1467.780029</td>\n",
              "      <td>1467.949951</td>\n",
              "      <td>3401050000</td>\n",
              "    </tr>\n",
              "  </tbody>\n",
              "</table>\n",
              "</div>\n",
              "      <button class=\"colab-df-convert\" onclick=\"convertToInteractive('df-76df76e0-d913-4f78-a17f-7f5555447ad9')\"\n",
              "              title=\"Convert this dataframe to an interactive table.\"\n",
              "              style=\"display:none;\">\n",
              "        \n",
              "  <svg xmlns=\"http://www.w3.org/2000/svg\" height=\"24px\"viewBox=\"0 0 24 24\"\n",
              "       width=\"24px\">\n",
              "    <path d=\"M0 0h24v24H0V0z\" fill=\"none\"/>\n",
              "    <path d=\"M18.56 5.44l.94 2.06.94-2.06 2.06-.94-2.06-.94-.94-2.06-.94 2.06-2.06.94zm-11 1L8.5 8.5l.94-2.06 2.06-.94-2.06-.94L8.5 2.5l-.94 2.06-2.06.94zm10 10l.94 2.06.94-2.06 2.06-.94-2.06-.94-.94-2.06-.94 2.06-2.06.94z\"/><path d=\"M17.41 7.96l-1.37-1.37c-.4-.4-.92-.59-1.43-.59-.52 0-1.04.2-1.43.59L10.3 9.45l-7.72 7.72c-.78.78-.78 2.05 0 2.83L4 21.41c.39.39.9.59 1.41.59.51 0 1.02-.2 1.41-.59l7.78-7.78 2.81-2.81c.8-.78.8-2.07 0-2.86zM5.41 20L4 18.59l7.72-7.72 1.47 1.35L5.41 20z\"/>\n",
              "  </svg>\n",
              "      </button>\n",
              "      \n",
              "  <style>\n",
              "    .colab-df-container {\n",
              "      display:flex;\n",
              "      flex-wrap:wrap;\n",
              "      gap: 12px;\n",
              "    }\n",
              "\n",
              "    .colab-df-convert {\n",
              "      background-color: #E8F0FE;\n",
              "      border: none;\n",
              "      border-radius: 50%;\n",
              "      cursor: pointer;\n",
              "      display: none;\n",
              "      fill: #1967D2;\n",
              "      height: 32px;\n",
              "      padding: 0 0 0 0;\n",
              "      width: 32px;\n",
              "    }\n",
              "\n",
              "    .colab-df-convert:hover {\n",
              "      background-color: #E2EBFA;\n",
              "      box-shadow: 0px 1px 2px rgba(60, 64, 67, 0.3), 0px 1px 3px 1px rgba(60, 64, 67, 0.15);\n",
              "      fill: #174EA6;\n",
              "    }\n",
              "\n",
              "    [theme=dark] .colab-df-convert {\n",
              "      background-color: #3B4455;\n",
              "      fill: #D2E3FC;\n",
              "    }\n",
              "\n",
              "    [theme=dark] .colab-df-convert:hover {\n",
              "      background-color: #434B5C;\n",
              "      box-shadow: 0px 1px 3px 1px rgba(0, 0, 0, 0.15);\n",
              "      filter: drop-shadow(0px 1px 2px rgba(0, 0, 0, 0.3));\n",
              "      fill: #FFFFFF;\n",
              "    }\n",
              "  </style>\n",
              "\n",
              "      <script>\n",
              "        const buttonEl =\n",
              "          document.querySelector('#df-76df76e0-d913-4f78-a17f-7f5555447ad9 button.colab-df-convert');\n",
              "        buttonEl.style.display =\n",
              "          google.colab.kernel.accessAllowed ? 'block' : 'none';\n",
              "\n",
              "        async function convertToInteractive(key) {\n",
              "          const element = document.querySelector('#df-76df76e0-d913-4f78-a17f-7f5555447ad9');\n",
              "          const dataTable =\n",
              "            await google.colab.kernel.invokeFunction('convertToInteractive',\n",
              "                                                     [key], {});\n",
              "          if (!dataTable) return;\n",
              "\n",
              "          const docLinkHtml = 'Like what you see? Visit the ' +\n",
              "            '<a target=\"_blank\" href=https://colab.research.google.com/notebooks/data_table.ipynb>data table notebook</a>'\n",
              "            + ' to learn more about interactive tables.';\n",
              "          element.innerHTML = '';\n",
              "          dataTable['output_type'] = 'display_data';\n",
              "          await google.colab.output.renderOutput(dataTable, element);\n",
              "          const docLink = document.createElement('div');\n",
              "          docLink.innerHTML = docLinkHtml;\n",
              "          element.appendChild(docLink);\n",
              "        }\n",
              "      </script>\n",
              "    </div>\n",
              "  </div>\n",
              "  "
            ]
          },
          "metadata": {},
          "execution_count": 189
        }
      ]
    },
    {
      "cell_type": "code",
      "source": [
        "sp500_rawdata.describe()"
      ],
      "metadata": {
        "colab": {
          "base_uri": "https://localhost:8080/",
          "height": 297
        },
        "id": "Ig_RTPfWWLhT",
        "outputId": "30081b7e-b279-4c0f-9fca-76635ae743b0"
      },
      "execution_count": 190,
      "outputs": [
        {
          "output_type": "execute_result",
          "data": {
            "text/plain": [
              "              Open         High          Low        Close        Volume\n",
              "count  3776.000000  3776.000000  3776.000000  3776.000000  3.776000e+03\n",
              "mean   2215.097594  2227.988289  2201.043308  2215.374645  4.114588e+09\n",
              "std    1022.108131  1027.424775  1016.318203  1022.129887  1.144720e+09\n",
              "min     679.280029   695.270020   666.789978   676.530029  1.025000e+09\n",
              "25%    1336.987518  1344.794952  1329.184967  1336.842529  3.392098e+09\n",
              "50%    2045.114990  2056.380005  2035.505005  2045.570007  3.860325e+09\n",
              "75%    2830.357544  2844.404968  2815.505066  2832.947449  4.577818e+09\n",
              "max    4804.509766  4818.620117  4780.040039  4796.560059  1.145623e+10"
            ],
            "text/html": [
              "\n",
              "  <div id=\"df-fc95e058-be0d-4436-902d-e47d3e9ef379\">\n",
              "    <div class=\"colab-df-container\">\n",
              "      <div>\n",
              "<style scoped>\n",
              "    .dataframe tbody tr th:only-of-type {\n",
              "        vertical-align: middle;\n",
              "    }\n",
              "\n",
              "    .dataframe tbody tr th {\n",
              "        vertical-align: top;\n",
              "    }\n",
              "\n",
              "    .dataframe thead th {\n",
              "        text-align: right;\n",
              "    }\n",
              "</style>\n",
              "<table border=\"1\" class=\"dataframe\">\n",
              "  <thead>\n",
              "    <tr style=\"text-align: right;\">\n",
              "      <th></th>\n",
              "      <th>Open</th>\n",
              "      <th>High</th>\n",
              "      <th>Low</th>\n",
              "      <th>Close</th>\n",
              "      <th>Volume</th>\n",
              "    </tr>\n",
              "  </thead>\n",
              "  <tbody>\n",
              "    <tr>\n",
              "      <th>count</th>\n",
              "      <td>3776.000000</td>\n",
              "      <td>3776.000000</td>\n",
              "      <td>3776.000000</td>\n",
              "      <td>3776.000000</td>\n",
              "      <td>3.776000e+03</td>\n",
              "    </tr>\n",
              "    <tr>\n",
              "      <th>mean</th>\n",
              "      <td>2215.097594</td>\n",
              "      <td>2227.988289</td>\n",
              "      <td>2201.043308</td>\n",
              "      <td>2215.374645</td>\n",
              "      <td>4.114588e+09</td>\n",
              "    </tr>\n",
              "    <tr>\n",
              "      <th>std</th>\n",
              "      <td>1022.108131</td>\n",
              "      <td>1027.424775</td>\n",
              "      <td>1016.318203</td>\n",
              "      <td>1022.129887</td>\n",
              "      <td>1.144720e+09</td>\n",
              "    </tr>\n",
              "    <tr>\n",
              "      <th>min</th>\n",
              "      <td>679.280029</td>\n",
              "      <td>695.270020</td>\n",
              "      <td>666.789978</td>\n",
              "      <td>676.530029</td>\n",
              "      <td>1.025000e+09</td>\n",
              "    </tr>\n",
              "    <tr>\n",
              "      <th>25%</th>\n",
              "      <td>1336.987518</td>\n",
              "      <td>1344.794952</td>\n",
              "      <td>1329.184967</td>\n",
              "      <td>1336.842529</td>\n",
              "      <td>3.392098e+09</td>\n",
              "    </tr>\n",
              "    <tr>\n",
              "      <th>50%</th>\n",
              "      <td>2045.114990</td>\n",
              "      <td>2056.380005</td>\n",
              "      <td>2035.505005</td>\n",
              "      <td>2045.570007</td>\n",
              "      <td>3.860325e+09</td>\n",
              "    </tr>\n",
              "    <tr>\n",
              "      <th>75%</th>\n",
              "      <td>2830.357544</td>\n",
              "      <td>2844.404968</td>\n",
              "      <td>2815.505066</td>\n",
              "      <td>2832.947449</td>\n",
              "      <td>4.577818e+09</td>\n",
              "    </tr>\n",
              "    <tr>\n",
              "      <th>max</th>\n",
              "      <td>4804.509766</td>\n",
              "      <td>4818.620117</td>\n",
              "      <td>4780.040039</td>\n",
              "      <td>4796.560059</td>\n",
              "      <td>1.145623e+10</td>\n",
              "    </tr>\n",
              "  </tbody>\n",
              "</table>\n",
              "</div>\n",
              "      <button class=\"colab-df-convert\" onclick=\"convertToInteractive('df-fc95e058-be0d-4436-902d-e47d3e9ef379')\"\n",
              "              title=\"Convert this dataframe to an interactive table.\"\n",
              "              style=\"display:none;\">\n",
              "        \n",
              "  <svg xmlns=\"http://www.w3.org/2000/svg\" height=\"24px\"viewBox=\"0 0 24 24\"\n",
              "       width=\"24px\">\n",
              "    <path d=\"M0 0h24v24H0V0z\" fill=\"none\"/>\n",
              "    <path d=\"M18.56 5.44l.94 2.06.94-2.06 2.06-.94-2.06-.94-.94-2.06-.94 2.06-2.06.94zm-11 1L8.5 8.5l.94-2.06 2.06-.94-2.06-.94L8.5 2.5l-.94 2.06-2.06.94zm10 10l.94 2.06.94-2.06 2.06-.94-2.06-.94-.94-2.06-.94 2.06-2.06.94z\"/><path d=\"M17.41 7.96l-1.37-1.37c-.4-.4-.92-.59-1.43-.59-.52 0-1.04.2-1.43.59L10.3 9.45l-7.72 7.72c-.78.78-.78 2.05 0 2.83L4 21.41c.39.39.9.59 1.41.59.51 0 1.02-.2 1.41-.59l7.78-7.78 2.81-2.81c.8-.78.8-2.07 0-2.86zM5.41 20L4 18.59l7.72-7.72 1.47 1.35L5.41 20z\"/>\n",
              "  </svg>\n",
              "      </button>\n",
              "      \n",
              "  <style>\n",
              "    .colab-df-container {\n",
              "      display:flex;\n",
              "      flex-wrap:wrap;\n",
              "      gap: 12px;\n",
              "    }\n",
              "\n",
              "    .colab-df-convert {\n",
              "      background-color: #E8F0FE;\n",
              "      border: none;\n",
              "      border-radius: 50%;\n",
              "      cursor: pointer;\n",
              "      display: none;\n",
              "      fill: #1967D2;\n",
              "      height: 32px;\n",
              "      padding: 0 0 0 0;\n",
              "      width: 32px;\n",
              "    }\n",
              "\n",
              "    .colab-df-convert:hover {\n",
              "      background-color: #E2EBFA;\n",
              "      box-shadow: 0px 1px 2px rgba(60, 64, 67, 0.3), 0px 1px 3px 1px rgba(60, 64, 67, 0.15);\n",
              "      fill: #174EA6;\n",
              "    }\n",
              "\n",
              "    [theme=dark] .colab-df-convert {\n",
              "      background-color: #3B4455;\n",
              "      fill: #D2E3FC;\n",
              "    }\n",
              "\n",
              "    [theme=dark] .colab-df-convert:hover {\n",
              "      background-color: #434B5C;\n",
              "      box-shadow: 0px 1px 3px 1px rgba(0, 0, 0, 0.15);\n",
              "      filter: drop-shadow(0px 1px 2px rgba(0, 0, 0, 0.3));\n",
              "      fill: #FFFFFF;\n",
              "    }\n",
              "  </style>\n",
              "\n",
              "      <script>\n",
              "        const buttonEl =\n",
              "          document.querySelector('#df-fc95e058-be0d-4436-902d-e47d3e9ef379 button.colab-df-convert');\n",
              "        buttonEl.style.display =\n",
              "          google.colab.kernel.accessAllowed ? 'block' : 'none';\n",
              "\n",
              "        async function convertToInteractive(key) {\n",
              "          const element = document.querySelector('#df-fc95e058-be0d-4436-902d-e47d3e9ef379');\n",
              "          const dataTable =\n",
              "            await google.colab.kernel.invokeFunction('convertToInteractive',\n",
              "                                                     [key], {});\n",
              "          if (!dataTable) return;\n",
              "\n",
              "          const docLinkHtml = 'Like what you see? Visit the ' +\n",
              "            '<a target=\"_blank\" href=https://colab.research.google.com/notebooks/data_table.ipynb>data table notebook</a>'\n",
              "            + ' to learn more about interactive tables.';\n",
              "          element.innerHTML = '';\n",
              "          dataTable['output_type'] = 'display_data';\n",
              "          await google.colab.output.renderOutput(dataTable, element);\n",
              "          const docLink = document.createElement('div');\n",
              "          docLink.innerHTML = docLinkHtml;\n",
              "          element.appendChild(docLink);\n",
              "        }\n",
              "      </script>\n",
              "    </div>\n",
              "  </div>\n",
              "  "
            ]
          },
          "metadata": {},
          "execution_count": 190
        }
      ]
    },
    {
      "cell_type": "markdown",
      "metadata": {
        "id": "2aj3v27-gzEi"
      },
      "source": []
    },
    {
      "cell_type": "markdown",
      "metadata": {
        "id": "8KjWNbXqfZju"
      },
      "source": [
        "#2. Feature Engineering (2pts) \n",
        "* For this part, you can choose and compute any feature you like (most features work in deep learning models as long as they are normalized).  \n",
        "\n",
        "* Do not include data that is not published or can't be accessed on the predicting date, this will bring information leakage problems.  \n",
        "\n",
        "* Split the data into train and test set."
      ]
    },
    {
      "cell_type": "code",
      "execution_count": 191,
      "metadata": {
        "id": "IZjqGkgbfYIb"
      },
      "outputs": [],
      "source": [
        "## Your code here!\n",
        "def AddFeatures(data):\n",
        "  classify = lambda x : 1 if x > 0 else 0\n",
        "  data['Daily_Return'] = (data['Close']-data['Open'])/data['Open'] #calculate daily return\n",
        "  data['5D_MA_Return'] = data['Daily_Return'].rolling(5, min_periods = 5).mean() #calculate 5 day moving average Returns\n",
        "  data['5D_MA_Volume'] = data['Volume'].rolling(5, min_periods = 5).mean() #calculate 5 day moving average volume\n",
        "  data['Target'] = data['Daily_Return'].apply(classify).shift(-1) #1 is positive returns, 0 if negative returns, for next day\n",
        "  data.dropna(inplace = True) #dropping NA values\n",
        "  data.drop(data.tail(1).index,inplace=True) #dropping last row, since target values are next day's return\n",
        "  return data"
      ]
    },
    {
      "cell_type": "code",
      "source": [
        "sp500 = AddFeatures(sp500_rawdata)\n",
        "sp500"
      ],
      "metadata": {
        "colab": {
          "base_uri": "https://localhost:8080/",
          "height": 450
        },
        "id": "3D6HcaQZYXZQ",
        "outputId": "41ea5a76-514c-48bb-fef2-d961d109394c"
      },
      "execution_count": 192,
      "outputs": [
        {
          "output_type": "execute_result",
          "data": {
            "text/plain": [
              "                   Open         High          Low        Close      Volume  \\\n",
              "Date                                                                         \n",
              "12-14-2007  1486.189941  1486.670044  1467.780029  1467.949951  3401050000   \n",
              "12-17-2007  1465.050049  1465.050049  1445.430054  1445.900024  3569030000   \n",
              "12-18-2007  1445.920044  1460.160034  1435.650024  1454.979980  3723690000   \n",
              "12-19-2007  1454.699951  1464.420044  1445.310059  1453.000000  3401300000   \n",
              "12-20-2007  1456.420044  1461.530029  1447.219971  1460.119995  3526890000   \n",
              "...                 ...          ...          ...          ...         ...   \n",
              "11-29-2022  3964.189941  3976.770020  3937.649902  3957.629883  3546040000   \n",
              "11-30-2022  3957.179932  4080.110107  3938.580078  4080.110107  6579360000   \n",
              "12-01-2022  4087.139893  4100.509766  4050.870117  4076.570068  4527130000   \n",
              "12-02-2022  4040.169922  4080.479980  4026.629883  4071.699951  4012620000   \n",
              "12-05-2022  4052.020020  4052.449951  3984.489990  3998.840088  4280820000   \n",
              "\n",
              "            Daily_Return  5D_MA_Return  5D_MA_Volume  Target  \n",
              "Date                                                          \n",
              "12-14-2007     -0.012273     -0.005600  3.702056e+09     0.0  \n",
              "12-17-2007     -0.013071     -0.009656  3.833510e+09     1.0  \n",
              "12-18-2007      0.006266     -0.003256  3.762212e+09     0.0  \n",
              "12-19-2007     -0.001169     -0.003356  3.546048e+09     1.0  \n",
              "12-20-2007      0.002540     -0.003541  3.524392e+09     1.0  \n",
              "...                  ...           ...           ...     ...  \n",
              "11-29-2022     -0.001655      0.001007  3.207128e+09     1.0  \n",
              "11-30-2022      0.031065      0.005300  3.745402e+09     0.0  \n",
              "12-01-2022     -0.002586      0.003435  3.994884e+09     1.0  \n",
              "12-02-2022      0.007804      0.004857  4.456116e+09     0.0  \n",
              "12-05-2022     -0.013124      0.004301  4.589194e+09     0.0  \n",
              "\n",
              "[3770 rows x 9 columns]"
            ],
            "text/html": [
              "\n",
              "  <div id=\"df-783fc178-1411-457d-9586-4f79b1c0ddf0\">\n",
              "    <div class=\"colab-df-container\">\n",
              "      <div>\n",
              "<style scoped>\n",
              "    .dataframe tbody tr th:only-of-type {\n",
              "        vertical-align: middle;\n",
              "    }\n",
              "\n",
              "    .dataframe tbody tr th {\n",
              "        vertical-align: top;\n",
              "    }\n",
              "\n",
              "    .dataframe thead th {\n",
              "        text-align: right;\n",
              "    }\n",
              "</style>\n",
              "<table border=\"1\" class=\"dataframe\">\n",
              "  <thead>\n",
              "    <tr style=\"text-align: right;\">\n",
              "      <th></th>\n",
              "      <th>Open</th>\n",
              "      <th>High</th>\n",
              "      <th>Low</th>\n",
              "      <th>Close</th>\n",
              "      <th>Volume</th>\n",
              "      <th>Daily_Return</th>\n",
              "      <th>5D_MA_Return</th>\n",
              "      <th>5D_MA_Volume</th>\n",
              "      <th>Target</th>\n",
              "    </tr>\n",
              "    <tr>\n",
              "      <th>Date</th>\n",
              "      <th></th>\n",
              "      <th></th>\n",
              "      <th></th>\n",
              "      <th></th>\n",
              "      <th></th>\n",
              "      <th></th>\n",
              "      <th></th>\n",
              "      <th></th>\n",
              "      <th></th>\n",
              "    </tr>\n",
              "  </thead>\n",
              "  <tbody>\n",
              "    <tr>\n",
              "      <th>12-14-2007</th>\n",
              "      <td>1486.189941</td>\n",
              "      <td>1486.670044</td>\n",
              "      <td>1467.780029</td>\n",
              "      <td>1467.949951</td>\n",
              "      <td>3401050000</td>\n",
              "      <td>-0.012273</td>\n",
              "      <td>-0.005600</td>\n",
              "      <td>3.702056e+09</td>\n",
              "      <td>0.0</td>\n",
              "    </tr>\n",
              "    <tr>\n",
              "      <th>12-17-2007</th>\n",
              "      <td>1465.050049</td>\n",
              "      <td>1465.050049</td>\n",
              "      <td>1445.430054</td>\n",
              "      <td>1445.900024</td>\n",
              "      <td>3569030000</td>\n",
              "      <td>-0.013071</td>\n",
              "      <td>-0.009656</td>\n",
              "      <td>3.833510e+09</td>\n",
              "      <td>1.0</td>\n",
              "    </tr>\n",
              "    <tr>\n",
              "      <th>12-18-2007</th>\n",
              "      <td>1445.920044</td>\n",
              "      <td>1460.160034</td>\n",
              "      <td>1435.650024</td>\n",
              "      <td>1454.979980</td>\n",
              "      <td>3723690000</td>\n",
              "      <td>0.006266</td>\n",
              "      <td>-0.003256</td>\n",
              "      <td>3.762212e+09</td>\n",
              "      <td>0.0</td>\n",
              "    </tr>\n",
              "    <tr>\n",
              "      <th>12-19-2007</th>\n",
              "      <td>1454.699951</td>\n",
              "      <td>1464.420044</td>\n",
              "      <td>1445.310059</td>\n",
              "      <td>1453.000000</td>\n",
              "      <td>3401300000</td>\n",
              "      <td>-0.001169</td>\n",
              "      <td>-0.003356</td>\n",
              "      <td>3.546048e+09</td>\n",
              "      <td>1.0</td>\n",
              "    </tr>\n",
              "    <tr>\n",
              "      <th>12-20-2007</th>\n",
              "      <td>1456.420044</td>\n",
              "      <td>1461.530029</td>\n",
              "      <td>1447.219971</td>\n",
              "      <td>1460.119995</td>\n",
              "      <td>3526890000</td>\n",
              "      <td>0.002540</td>\n",
              "      <td>-0.003541</td>\n",
              "      <td>3.524392e+09</td>\n",
              "      <td>1.0</td>\n",
              "    </tr>\n",
              "    <tr>\n",
              "      <th>...</th>\n",
              "      <td>...</td>\n",
              "      <td>...</td>\n",
              "      <td>...</td>\n",
              "      <td>...</td>\n",
              "      <td>...</td>\n",
              "      <td>...</td>\n",
              "      <td>...</td>\n",
              "      <td>...</td>\n",
              "      <td>...</td>\n",
              "    </tr>\n",
              "    <tr>\n",
              "      <th>11-29-2022</th>\n",
              "      <td>3964.189941</td>\n",
              "      <td>3976.770020</td>\n",
              "      <td>3937.649902</td>\n",
              "      <td>3957.629883</td>\n",
              "      <td>3546040000</td>\n",
              "      <td>-0.001655</td>\n",
              "      <td>0.001007</td>\n",
              "      <td>3.207128e+09</td>\n",
              "      <td>1.0</td>\n",
              "    </tr>\n",
              "    <tr>\n",
              "      <th>11-30-2022</th>\n",
              "      <td>3957.179932</td>\n",
              "      <td>4080.110107</td>\n",
              "      <td>3938.580078</td>\n",
              "      <td>4080.110107</td>\n",
              "      <td>6579360000</td>\n",
              "      <td>0.031065</td>\n",
              "      <td>0.005300</td>\n",
              "      <td>3.745402e+09</td>\n",
              "      <td>0.0</td>\n",
              "    </tr>\n",
              "    <tr>\n",
              "      <th>12-01-2022</th>\n",
              "      <td>4087.139893</td>\n",
              "      <td>4100.509766</td>\n",
              "      <td>4050.870117</td>\n",
              "      <td>4076.570068</td>\n",
              "      <td>4527130000</td>\n",
              "      <td>-0.002586</td>\n",
              "      <td>0.003435</td>\n",
              "      <td>3.994884e+09</td>\n",
              "      <td>1.0</td>\n",
              "    </tr>\n",
              "    <tr>\n",
              "      <th>12-02-2022</th>\n",
              "      <td>4040.169922</td>\n",
              "      <td>4080.479980</td>\n",
              "      <td>4026.629883</td>\n",
              "      <td>4071.699951</td>\n",
              "      <td>4012620000</td>\n",
              "      <td>0.007804</td>\n",
              "      <td>0.004857</td>\n",
              "      <td>4.456116e+09</td>\n",
              "      <td>0.0</td>\n",
              "    </tr>\n",
              "    <tr>\n",
              "      <th>12-05-2022</th>\n",
              "      <td>4052.020020</td>\n",
              "      <td>4052.449951</td>\n",
              "      <td>3984.489990</td>\n",
              "      <td>3998.840088</td>\n",
              "      <td>4280820000</td>\n",
              "      <td>-0.013124</td>\n",
              "      <td>0.004301</td>\n",
              "      <td>4.589194e+09</td>\n",
              "      <td>0.0</td>\n",
              "    </tr>\n",
              "  </tbody>\n",
              "</table>\n",
              "<p>3770 rows × 9 columns</p>\n",
              "</div>\n",
              "      <button class=\"colab-df-convert\" onclick=\"convertToInteractive('df-783fc178-1411-457d-9586-4f79b1c0ddf0')\"\n",
              "              title=\"Convert this dataframe to an interactive table.\"\n",
              "              style=\"display:none;\">\n",
              "        \n",
              "  <svg xmlns=\"http://www.w3.org/2000/svg\" height=\"24px\"viewBox=\"0 0 24 24\"\n",
              "       width=\"24px\">\n",
              "    <path d=\"M0 0h24v24H0V0z\" fill=\"none\"/>\n",
              "    <path d=\"M18.56 5.44l.94 2.06.94-2.06 2.06-.94-2.06-.94-.94-2.06-.94 2.06-2.06.94zm-11 1L8.5 8.5l.94-2.06 2.06-.94-2.06-.94L8.5 2.5l-.94 2.06-2.06.94zm10 10l.94 2.06.94-2.06 2.06-.94-2.06-.94-.94-2.06-.94 2.06-2.06.94z\"/><path d=\"M17.41 7.96l-1.37-1.37c-.4-.4-.92-.59-1.43-.59-.52 0-1.04.2-1.43.59L10.3 9.45l-7.72 7.72c-.78.78-.78 2.05 0 2.83L4 21.41c.39.39.9.59 1.41.59.51 0 1.02-.2 1.41-.59l7.78-7.78 2.81-2.81c.8-.78.8-2.07 0-2.86zM5.41 20L4 18.59l7.72-7.72 1.47 1.35L5.41 20z\"/>\n",
              "  </svg>\n",
              "      </button>\n",
              "      \n",
              "  <style>\n",
              "    .colab-df-container {\n",
              "      display:flex;\n",
              "      flex-wrap:wrap;\n",
              "      gap: 12px;\n",
              "    }\n",
              "\n",
              "    .colab-df-convert {\n",
              "      background-color: #E8F0FE;\n",
              "      border: none;\n",
              "      border-radius: 50%;\n",
              "      cursor: pointer;\n",
              "      display: none;\n",
              "      fill: #1967D2;\n",
              "      height: 32px;\n",
              "      padding: 0 0 0 0;\n",
              "      width: 32px;\n",
              "    }\n",
              "\n",
              "    .colab-df-convert:hover {\n",
              "      background-color: #E2EBFA;\n",
              "      box-shadow: 0px 1px 2px rgba(60, 64, 67, 0.3), 0px 1px 3px 1px rgba(60, 64, 67, 0.15);\n",
              "      fill: #174EA6;\n",
              "    }\n",
              "\n",
              "    [theme=dark] .colab-df-convert {\n",
              "      background-color: #3B4455;\n",
              "      fill: #D2E3FC;\n",
              "    }\n",
              "\n",
              "    [theme=dark] .colab-df-convert:hover {\n",
              "      background-color: #434B5C;\n",
              "      box-shadow: 0px 1px 3px 1px rgba(0, 0, 0, 0.15);\n",
              "      filter: drop-shadow(0px 1px 2px rgba(0, 0, 0, 0.3));\n",
              "      fill: #FFFFFF;\n",
              "    }\n",
              "  </style>\n",
              "\n",
              "      <script>\n",
              "        const buttonEl =\n",
              "          document.querySelector('#df-783fc178-1411-457d-9586-4f79b1c0ddf0 button.colab-df-convert');\n",
              "        buttonEl.style.display =\n",
              "          google.colab.kernel.accessAllowed ? 'block' : 'none';\n",
              "\n",
              "        async function convertToInteractive(key) {\n",
              "          const element = document.querySelector('#df-783fc178-1411-457d-9586-4f79b1c0ddf0');\n",
              "          const dataTable =\n",
              "            await google.colab.kernel.invokeFunction('convertToInteractive',\n",
              "                                                     [key], {});\n",
              "          if (!dataTable) return;\n",
              "\n",
              "          const docLinkHtml = 'Like what you see? Visit the ' +\n",
              "            '<a target=\"_blank\" href=https://colab.research.google.com/notebooks/data_table.ipynb>data table notebook</a>'\n",
              "            + ' to learn more about interactive tables.';\n",
              "          element.innerHTML = '';\n",
              "          dataTable['output_type'] = 'display_data';\n",
              "          await google.colab.output.renderOutput(dataTable, element);\n",
              "          const docLink = document.createElement('div');\n",
              "          docLink.innerHTML = docLinkHtml;\n",
              "          element.appendChild(docLink);\n",
              "        }\n",
              "      </script>\n",
              "    </div>\n",
              "  </div>\n",
              "  "
            ]
          },
          "metadata": {},
          "execution_count": 192
        }
      ]
    },
    {
      "cell_type": "code",
      "source": [
        "#checking for class imbalance\n",
        "class1 = sp500['Target'].sum()\n",
        "class0 = len(sp500) - class1\n",
        "class1_pct = class1/(class1 + class0)\n",
        "class0_pct = 1 - class1_pct\n",
        "print(f'Percentage of class 0 target values : {class0_pct}')\n",
        "print(f'Percentage of class 1 target values : {class1_pct}')"
      ],
      "metadata": {
        "colab": {
          "base_uri": "https://localhost:8080/"
        },
        "id": "QVuYRGEquPS2",
        "outputId": "b5832b75-c649-459f-cf62-729669f3ebc0"
      },
      "execution_count": 193,
      "outputs": [
        {
          "output_type": "stream",
          "name": "stdout",
          "text": [
            "Percentage of class 0 target values : 0.4602122015915119\n",
            "Percentage of class 1 target values : 0.5397877984084881\n"
          ]
        }
      ]
    },
    {
      "cell_type": "markdown",
      "metadata": {
        "id": "WhDvqiPnHccB"
      },
      "source": [
        "#3. Deep Learning Binary Classification (6 pts)"
      ]
    },
    {
      "cell_type": "markdown",
      "metadata": {
        "id": "JoNmgbgWHjGs"
      },
      "source": [
        "* Either [Pytorch](https://pytorch.org/tutorials/beginner/deep_learning_60min_blitz.html) or [Tensorflow](https://www.tensorflow.org/tutorials/quickstart/beginner) is allowed to use.\n",
        "* You can choose any type of deep learning architecture, e.g., LSTM, GRU, CNN, it is up to you.  \n",
        "* You can implement an option to save your model after training, but this is optional. Print the ROC(AUC) and the train loss as well as the test loss. And plot scores vs. training epochs with 4 curves. \n",
        "* Remember to **set the random seed** (random state) so that when we run your software, we get similar results (the results doesn't have to be exactely the same). \n",
        "* **Extra credit**: Exceptional work will receive up to 2 bonus points, e.g. preventing overfitting by setting early stop, performing hyperparameters tuning, conducting validation test, etc.    \n",
        "* And lastly, remember this is the stock market, so it is **difficult** to have an accuracy above 50%, and you won't be deducted any point for bad prediction results, good luck!"
      ]
    },
    {
      "cell_type": "code",
      "execution_count": 217,
      "metadata": {
        "id": "Rzk2wizgHwlP"
      },
      "outputs": [],
      "source": [
        "## Your code here!\n",
        "from sklearn.model_selection import train_test_split\n",
        "from sklearn.preprocessing import MinMaxScaler, StandardScaler\n",
        "from sklearn.metrics import accuracy_score, f1_score, recall_score, precision_score\n",
        "from keras.models import Sequential\n",
        "from keras.layers import Dense, LSTM, Activation\n",
        "from keras.optimizers import Adam"
      ]
    },
    {
      "cell_type": "code",
      "source": [
        "#splitting the data into batches of appropriate dimensions\n",
        "def split_sequences(inputs, outputs, n_timesteps):\n",
        "    X, y = list(), list()\n",
        "    for i in range(len(inputs)):\n",
        "        # find the end of this pattern\n",
        "        end_ix = i + n_timesteps\n",
        "        # check if we are beyond the dataset\n",
        "        if end_ix > len(inputs):\n",
        "            break\n",
        "        # gather input and output parts of the pattern\n",
        "        seq_x, seq_y = inputs.iloc[i:end_ix, :], outputs.iloc[end_ix-1]\n",
        "        X.append(seq_x)\n",
        "        y.append(seq_y)\n",
        "    return np.array(X), np.array(y)"
      ],
      "metadata": {
        "id": "Ie3l6GZ6zH-a"
      },
      "execution_count": 195,
      "outputs": []
    },
    {
      "cell_type": "code",
      "source": [
        "#splitting the data into train test sets and scaling the features.\n",
        "def ProcessData(data, test_size, scaler): \n",
        "  X, y = data.iloc[:,:-1], data.iloc[:,-1]\n",
        "  X_train, X_test, y_train, y_test = train_test_split(X,y, test_size = test_size, random_state = 42)\n",
        "  scaler_obj = scaler()\n",
        "  scaler_obj.fit_transform(X_train)#using training parameters for test set to avoid foresight leakage\n",
        "  scaler_obj.transform(X_test)\n",
        "  return X_train, X_test, y_train, y_test"
      ],
      "metadata": {
        "id": "pP4lZMA7zPPJ"
      },
      "execution_count": 196,
      "outputs": []
    },
    {
      "cell_type": "code",
      "source": [
        "X_train, X_test, y_train, y_test = ProcessData(sp500, 0.05, StandardScaler) #95% training set, 5% test set"
      ],
      "metadata": {
        "id": "UtXhwup8Vuot"
      },
      "execution_count": 197,
      "outputs": []
    },
    {
      "cell_type": "code",
      "source": [
        "def model_fit(inputs,outputs,config):\n",
        "  # model configuration\n",
        "  n_timesteps, n_nodes, n_epochs, n_batch = config\n",
        "     \n",
        "  # converting into batches\n",
        "  X_train, y_train = split_sequences(inputs, outputs, n_timesteps) #constructs histories of length timesteps\n",
        "    \n",
        "  # flatten the CUBE X_train because the fit function must be fed by a MATRIX \n",
        "  n_input = X_train.shape[1] * X_train.shape[2]\n",
        "  X_train = X_train.reshape((X_train.shape[0], n_input))\n",
        "\n",
        "  # model\n",
        "  activation = 'tanh'\n",
        "  final_activation = 'sigmoid'\n",
        "  model = Sequential()\n",
        "  model.add(Dense(n_nodes, activation=activation, input_dim=n_input, name = 'hidden_layer_1'))\n",
        "  model.add(Dense(n_nodes + 3, activation = activation, name = 'hidden_layer_2'))\n",
        "  model.add(Dense(n_nodes - 2, activation = activation, name = 'hidden_layer_3'))\n",
        "  model.add(Dense(1, activation = final_activation, name = 'hidden_layer_4'))\n",
        "  model.compile(loss = 'binary_crossentropy', optimizer='adam', metrics = ['accuracy'])\n",
        "  # fit model\n",
        "  hist = model.fit(X_train, y_train, epochs=n_epochs, batch_size=n_batch, shuffle=False, verbose=0, validation_split = 0.05) #5% validation set\n",
        "  return hist, model"
      ],
      "metadata": {
        "id": "BH2NeBJmY8lp"
      },
      "execution_count": 198,
      "outputs": []
    },
    {
      "cell_type": "code",
      "source": [
        "#plotting training and validation accuracy v/s epochs\n",
        "def plotTraining(model):\n",
        "  %matplotlib inline\n",
        "  sns.set()\n",
        "\n",
        "  acc = model.history['accuracy']\n",
        "  val = model.history['val_accuracy']\n",
        "  epochs = range(1, len(acc) + 1)\n",
        "\n",
        "  plt.figure(figsize = (12,5)) \n",
        "  plt.plot(epochs, acc, '-', label='Training accuracy')\n",
        "  plt.plot(epochs, val, ':', label='Validation accuracy')\n",
        "  plt.title('Training and Validation Accuracy')\n",
        "  plt.xlabel('Epoch')\n",
        "  plt.ylabel('Accuracy')\n",
        "  plt.legend(loc='lower right')\n",
        "  plt.plot()"
      ],
      "metadata": {
        "id": "8V_X-wZ8xLV9"
      },
      "execution_count": 199,
      "outputs": []
    },
    {
      "cell_type": "code",
      "source": [
        "config = [5, len(X_train.columns), 100, 5] #timesteps = 5, no. of features = 8, epochs = 100, batches = 5\n",
        "hist, model = model_fit(X_train, y_train, config)\n",
        "plotTraining(hist)"
      ],
      "metadata": {
        "id": "YjsYCT8KaNzz",
        "colab": {
          "base_uri": "https://localhost:8080/",
          "height": 355
        },
        "outputId": "73208f68-abce-4a85-bc1c-9d2744e62739"
      },
      "execution_count": 200,
      "outputs": [
        {
          "output_type": "display_data",
          "data": {
            "text/plain": [
              "<Figure size 864x360 with 1 Axes>"
            ],
            "image/png": "[encoded data removed]"
          },
          "metadata": {}
        }
      ]
    },
    {
      "cell_type": "code",
      "source": [
        "config = [10, len(X_train.columns), 30, 5] #timesteps = 10, no. of features = 8, epochs = 30, batches = 5\n",
        "hist, model = model_fit(X_train, y_train, config)\n",
        "plotTraining(hist)"
      ],
      "metadata": {
        "colab": {
          "base_uri": "https://localhost:8080/",
          "height": 355
        },
        "id": "WefOehkHzOBc",
        "outputId": "c2c5eb68-ece6-4bbe-d3fa-968c01403701"
      },
      "execution_count": 201,
      "outputs": [
        {
          "output_type": "display_data",
          "data": {
            "text/plain": [
              "<Figure size 864x360 with 1 Axes>"
            ],
            "image/png": "[encoded data removed]"
          },
          "metadata": {}
        }
      ]
    },
    {
      "cell_type": "code",
      "source": [
        "config = [5, len(X_train.columns), 30, 5] #timesteps = 5, no. of features = 8, epochs = 30, batches = 5\n",
        "hist, model = model_fit(X_train, y_train, config)\n",
        "plotTraining(hist)"
      ],
      "metadata": {
        "colab": {
          "base_uri": "https://localhost:8080/",
          "height": 355
        },
        "id": "2KwK94Sj1KVb",
        "outputId": "94b21be3-af4f-4dac-e6a7-e3f1ec9f9fed"
      },
      "execution_count": 212,
      "outputs": [
        {
          "output_type": "display_data",
          "data": {
            "text/plain": [
              "<Figure size 864x360 with 1 Axes>"
            ],
            "image/png": "[encoded data removed]"
          },
          "metadata": {}
        }
      ]
    },
    {
      "cell_type": "code",
      "source": [
        "config = [3, len(X_train.columns), 100, 8] #timesteps = 3, no. of features = 8, epochs = 100, batches = 8\n",
        "hist, model = model_fit(X_train, y_train, config)\n",
        "plotTraining(hist)\n",
        "#based on the different model hyperparameters we tested above, we decide to use the previous model hyperparameters given the best performance seen in the graph above"
      ],
      "metadata": {
        "colab": {
          "base_uri": "https://localhost:8080/",
          "height": 355
        },
        "id": "ruO-xKxC266c",
        "outputId": "a8de5751-e3ab-43be-a41e-325bdda37345"
      },
      "execution_count": 208,
      "outputs": [
        {
          "output_type": "display_data",
          "data": {
            "text/plain": [
              "<Figure size 864x360 with 1 Axes>"
            ],
            "image/png": "[encoded data removed]"
          },
          "metadata": {}
        }
      ]
    },
    {
      "cell_type": "code",
      "source": [
        "def model_predict(model, X_input): #timesteps = 3, no. of features = 8, epochs = 100, batches = 8\n",
        "  #X_input is a MATRIX\n",
        "\tn_timesteps = X_input.shape[0] #should be the same as n_timesteps from config\n",
        "\tn_features = X_input.shape[1] * X_input.shape[2]\n",
        "\n",
        "  #reshape the MATRIX X_input because the predict function must be fed by a VECTOR \n",
        "\tX_array = X_input.reshape((X_input.shape[0], X_input.shape[1] * X_input.shape[2]))\n",
        "    \n",
        "\t# predict\n",
        "\tyhat = model.predict(X_array, verbose=0)\n",
        "\n",
        "\treturn yhat"
      ],
      "metadata": {
        "id": "qNsR9ztIeQJz"
      },
      "execution_count": 213,
      "outputs": []
    },
    {
      "cell_type": "code",
      "source": [
        "X_test_arr, y_test_arr = split_sequences(X_test, y_test, 5) #generating test data batches\n",
        "y_predicted = model_predict(model, X_test_arr).squeeze()\n",
        "y_predicted = (y_predicted > 0.5).astype(int) #converting probabilities to binary values"
      ],
      "metadata": {
        "id": "CZjBhIuGeTLx"
      },
      "execution_count": 215,
      "outputs": []
    },
    {
      "cell_type": "code",
      "source": [
        "print(f'Accuracy score : {accuracy_score(y_predicted, y_test_arr)*100:.2f}%')\n",
        "print(f'Precision score : {precision_score(y_predicted, y_test_arr)*100:.2f}%')\n",
        "print(f'Recall score : {recall_score(y_predicted, y_test_arr)*100:.2f}%')\n",
        "print(f'F1 score : {f1_score(y_predicted, y_test_arr)*100:.2f}%')"
      ],
      "metadata": {
        "colab": {
          "base_uri": "https://localhost:8080/"
        },
        "id": "MnRXQ2bM5mxe",
        "outputId": "6062417f-bd1b-4dfe-80fc-7991bcf5d209"
      },
      "execution_count": 218,
      "outputs": [
        {
          "output_type": "stream",
          "name": "stdout",
          "text": [
            "Accuracy score : 55.68%\n",
            "Precision score : 100.00%\n",
            "Recall score : 55.68%\n",
            "F1 score : 71.53%\n"
          ]
        }
      ]
    },
    {
      "cell_type": "markdown",
      "source": [
        "We observe that although the DL algorithm works well with >50% accuracy,we must note that there is a bull market bias in the test set and we need to further analyze its performance on different markets conditions as well."
      ],
      "metadata": {
        "id": "EbntnANCJ0RX"
      }
    }
  ],
  "metadata": {
    "colab": {
      "provenance": [],
      "include_colab_link": true
    },
    "kernelspec": {
      "display_name": "Python 3",
      "language": "python",
      "name": "python3"
    },
    "language_info": {
      "codemirror_mode": {
        "name": "ipython",
        "version": 3
      },
      "file_extension": ".py",
      "mimetype": "text/x-python",
      "name": "python",
      "nbconvert_exporter": "python",
      "pygments_lexer": "ipython3",
      "version": "3.8.8"
    },
    "accelerator": "GPU",
    "gpuClass": "standard"
  },
  "nbformat": 4,
  "nbformat_minor": 0
}